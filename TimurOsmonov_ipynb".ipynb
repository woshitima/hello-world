{
  "nbformat": 4,
  "nbformat_minor": 0,
  "metadata": {
    "colab": {
      "name": "TimurOsmonov.ipynb\"",
      "provenance": [],
      "collapsed_sections": [],
      "include_colab_link": true
    },
    "kernelspec": {
      "name": "python3",
      "display_name": "Python 3"
    }
  },
  "cells": [
    {
      "cell_type": "markdown",
      "metadata": {
        "id": "view-in-github",
        "colab_type": "text"
      },
      "source": [
        "<a href=\"https://colab.research.google.com/github/woshitima/hello-world/blob/master/TimurOsmonov_ipynb%22.ipynb\" target=\"_parent\"><img src=\"https://colab.research.google.com/assets/colab-badge.svg\" alt=\"Open In Colab\"/></a>"
      ]
    },
    {
      "cell_type": "markdown",
      "metadata": {
        "id": "wPF5j-ALrq7F",
        "colab_type": "text"
      },
      "source": [
        "1) Напишите программу, которая возведет число в квадрат.\n",
        "\n",
        "Пример:\n",
        "\n",
        "* 4 → 16\n",
        "* 3 → 9"
      ]
    },
    {
      "cell_type": "code",
      "metadata": {
        "id": "k-2NWkb7ubG-",
        "colab_type": "code",
        "colab": {
          "base_uri": "https://localhost:8080/",
          "height": 50
        },
        "outputId": "c3e395bd-86ba-4c2f-f349-a446baa8d5e1"
      },
      "source": [
        "x=float(input('Enter number: '))\n",
        "r=x**2\n",
        "print('The result is: ', r)"
      ],
      "execution_count": null,
      "outputs": [
        {
          "output_type": "stream",
          "text": [
            "Enter number: 4\n",
            "The result is:  16.0\n"
          ],
          "name": "stdout"
        }
      ]
    },
    {
      "cell_type": "markdown",
      "metadata": {
        "id": "GxG1pxdGtP1O",
        "colab_type": "text"
      },
      "source": [
        "2) Месси - футболист, который забивает в трех лигах: LaLiga, Copa del Rey, UEFA.\n",
        "Ваша задача посчитать все голы во всех трех лигах и вывести результат. Например:\n",
        "5, 10, 2 → 17"
      ]
    },
    {
      "cell_type": "code",
      "metadata": {
        "id": "Gk64K3L9rnwz",
        "colab_type": "code",
        "colab": {
          "base_uri": "https://localhost:8080/",
          "height": 84
        },
        "outputId": "2f921c2a-087c-403d-f178-6100e67e44d9"
      },
      "source": [
        "laliga=float(input('laliga= '))\n",
        "copadelrey=float(input('codapelrey= '))\n",
        "uefa=float(input('uefa= '))\n",
        "r=laliga+copadelrey+uefa\n",
        "print('Total Goals =', r)"
      ],
      "execution_count": null,
      "outputs": [
        {
          "output_type": "stream",
          "text": [
            "laliga= 5\n",
            "codapelrey= 10\n",
            "uefa= 2\n",
            "Total Goals = 17.0\n"
          ],
          "name": "stdout"
        }
      ]
    },
    {
      "cell_type": "markdown",
      "metadata": {
        "id": "DEsQ6gjmun1U",
        "colab_type": "text"
      },
      "source": [
        "3) Дается число. Нужно вывести следующее четное после него, не используя условные конструкции. Например:\n",
        "* 4 → 6\n",
        "* 9 → 10\n",
        "\n",
        "(Hint) - нужно будет применить функцию `int()`\n",
        "\n",
        "\n"
      ]
    },
    {
      "cell_type": "code",
      "metadata": {
        "id": "C1vwCHAovwT4",
        "colab_type": "code",
        "colab": {
          "base_uri": "https://localhost:8080/",
          "height": 84
        },
        "outputId": "9de5231e-1699-45d4-b160-c7c53793ff8a"
      },
      "source": [
        "x=int(input())\n",
        "print(x+2)\n",
        "y=int(input())\n",
        "print(y+1)"
      ],
      "execution_count": null,
      "outputs": [
        {
          "output_type": "stream",
          "text": [
            "4\n",
            "6\n",
            "9\n",
            "10\n"
          ],
          "name": "stdout"
        }
      ]
    },
    {
      "cell_type": "markdown",
      "metadata": {
        "id": "sPSha4XIvxAD",
        "colab_type": "text"
      },
      "source": [
        "4) Напишите программу, которая берет число n и высчитывает значение `n+nn+nnn`."
      ]
    },
    {
      "cell_type": "code",
      "metadata": {
        "id": "HxdxUiqgwWja",
        "colab_type": "code",
        "colab": {
          "base_uri": "https://localhost:8080/",
          "height": 50
        },
        "outputId": "7d4ddc6b-e870-4300-b740-36dd4729652f"
      },
      "source": [
        "n = int(input(\"Enter number n: \"))\n",
        "q = str(n)\n",
        "t1 = q + q\n",
        "t2 = q + q + q\n",
        "comp = n + int(t1) + int(t2)\n",
        "print(\"The result is:\", comp)"
      ],
      "execution_count": null,
      "outputs": [
        {
          "output_type": "stream",
          "text": [
            "Enter number n: 4\n",
            "The result is: 492\n"
          ],
          "name": "stdout"
        }
      ]
    },
    {
      "cell_type": "markdown",
      "metadata": {
        "id": "WME4F-8ZwZv_",
        "colab_type": "text"
      },
      "source": [
        "5) Напишите программу, которая высчитывает среднее значение из трех чисел."
      ]
    },
    {
      "cell_type": "code",
      "metadata": {
        "id": "IdwdQcMIxAuh",
        "colab_type": "code",
        "colab": {
          "base_uri": "https://localhost:8080/",
          "height": 84
        },
        "outputId": "510ed5a0-f034-4305-8db3-fc6a7825ec6a"
      },
      "source": [
        "x=float(input('x= '))\n",
        "y=float(input('y= '))\n",
        "z=float(input('z= '))\n",
        "r=((x+y+z)/3)\n",
        "print('Mean =', r)"
      ],
      "execution_count": null,
      "outputs": [
        {
          "output_type": "stream",
          "text": [
            "x= 4\n",
            "y= 8\n",
            "z= 12\n",
            "Mean = 8.0\n"
          ],
          "name": "stdout"
        }
      ]
    },
    {
      "cell_type": "markdown",
      "metadata": {
        "id": "_3mKO5DNxBdT",
        "colab_type": "text"
      },
      "source": [
        "6) Напишите программу, которая посчитает площадь треугольника по заданным параметрам."
      ]
    },
    {
      "cell_type": "code",
      "metadata": {
        "id": "WhQmgiFoxfwD",
        "colab_type": "code",
        "colab": {
          "base_uri": "https://localhost:8080/",
          "height": 101
        },
        "outputId": "29897b91-1ee7-4b1a-9f99-ab8f2698c665"
      },
      "source": [
        "import math\n",
        "x=float(input('x= '))\n",
        "y=float(input('y= '))\n",
        "z=float(input('z= '))\n",
        "p=(x+y+z)/2\n",
        "print('Semi-perimeter =',p)\n",
        "s=p*(p-x)*(p-y)*(p-z)\n",
        "s=math.sqrt(s)\n",
        "print('S =',s)"
      ],
      "execution_count": 46,
      "outputs": [
        {
          "output_type": "stream",
          "text": [
            "x= 10\n",
            "y= 20\n",
            "z= 30\n",
            "Semi-perimeter = 30.0\n",
            "S = 0.0\n"
          ],
          "name": "stdout"
        }
      ]
    },
    {
      "cell_type": "markdown",
      "metadata": {
        "id": "LdllPizGxdgG",
        "colab_type": "text"
      },
      "source": [
        "7) Найдите гипотенузу треугольника по двум заданным катетам."
      ]
    },
    {
      "cell_type": "code",
      "metadata": {
        "id": "KWsWeJfzxqqW",
        "colab_type": "code",
        "colab": {
          "base_uri": "https://localhost:8080/",
          "height": 67
        },
        "outputId": "ca2ef396-ac82-446a-837d-504434db0243"
      },
      "source": [
        "x=float(input('Cathetus x= '))\n",
        "y=float(input('Cathetus y= '))\n",
        "z=math.sqrt(x*x + y*y)\n",
        "print('Hypotenuse =',z)"
      ],
      "execution_count": null,
      "outputs": [
        {
          "output_type": "stream",
          "text": [
            "Cathetus x= 5\n",
            "Cathetus y= 7\n",
            "Hypotenuse = 8.602325267042627\n"
          ],
          "name": "stdout"
        }
      ]
    },
    {
      "cell_type": "markdown",
      "metadata": {
        "id": "lnzhD9qDxr6m",
        "colab_type": "text"
      },
      "source": [
        "8) Выполните следующее, дается число, выведите число противоположное ему."
      ]
    },
    {
      "cell_type": "code",
      "metadata": {
        "id": "lpP2iFDmyMkF",
        "colab_type": "code",
        "colab": {
          "base_uri": "https://localhost:8080/",
          "height": 50
        },
        "outputId": "0a7fe723-c930-4b6e-f8bc-fc3bf929624f"
      },
      "source": [
        "x=float(input('Enter a number: '))\n",
        "z=-x\n",
        "print('Result: ', z)"
      ],
      "execution_count": null,
      "outputs": [
        {
          "output_type": "stream",
          "text": [
            "Enter a number: 4\n",
            "Result:  -4.0\n"
          ],
          "name": "stdout"
        }
      ]
    }
  ]
}